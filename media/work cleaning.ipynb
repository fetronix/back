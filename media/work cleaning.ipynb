{
  "nbformat": 4,
  "nbformat_minor": 0,
  "metadata": {
    "colab": {
      "provenance": []
    },
    "kernelspec": {
      "name": "python3",
      "display_name": "Python 3"
    },
    "language_info": {
      "name": "python"
    }
  },
  "cells": [
    {
      "cell_type": "code",
      "execution_count": 1,
      "metadata": {
        "colab": {
          "base_uri": "https://localhost:8080/",
          "height": 206
        },
        "id": "xy33FX-vhtmX",
        "outputId": "c71f1842-fe8d-40b4-c53f-c8f2bf589614"
      },
      "outputs": [
        {
          "output_type": "execute_result",
          "data": {
            "text/plain": [
              "         Node Label\n",
              "0  04.conference.ke\n",
              "1  05.conference.ke\n",
              "2  06.conference.ke\n",
              "3  07.conference.ke\n",
              "4  09.conference.ke"
            ],
            "text/html": [
              "\n",
              "  <div id=\"df-2e43e229-dcac-41a4-b4b7-ee2244b038d0\" class=\"colab-df-container\">\n",
              "    <div>\n",
              "<style scoped>\n",
              "    .dataframe tbody tr th:only-of-type {\n",
              "        vertical-align: middle;\n",
              "    }\n",
              "\n",
              "    .dataframe tbody tr th {\n",
              "        vertical-align: top;\n",
              "    }\n",
              "\n",
              "    .dataframe thead th {\n",
              "        text-align: right;\n",
              "    }\n",
              "</style>\n",
              "<table border=\"1\" class=\"dataframe\">\n",
              "  <thead>\n",
              "    <tr style=\"text-align: right;\">\n",
              "      <th></th>\n",
              "      <th>Node Label</th>\n",
              "    </tr>\n",
              "  </thead>\n",
              "  <tbody>\n",
              "    <tr>\n",
              "      <th>0</th>\n",
              "      <td>04.conference.ke</td>\n",
              "    </tr>\n",
              "    <tr>\n",
              "      <th>1</th>\n",
              "      <td>05.conference.ke</td>\n",
              "    </tr>\n",
              "    <tr>\n",
              "      <th>2</th>\n",
              "      <td>06.conference.ke</td>\n",
              "    </tr>\n",
              "    <tr>\n",
              "      <th>3</th>\n",
              "      <td>07.conference.ke</td>\n",
              "    </tr>\n",
              "    <tr>\n",
              "      <th>4</th>\n",
              "      <td>09.conference.ke</td>\n",
              "    </tr>\n",
              "  </tbody>\n",
              "</table>\n",
              "</div>\n",
              "    <div class=\"colab-df-buttons\">\n",
              "\n",
              "  <div class=\"colab-df-container\">\n",
              "    <button class=\"colab-df-convert\" onclick=\"convertToInteractive('df-2e43e229-dcac-41a4-b4b7-ee2244b038d0')\"\n",
              "            title=\"Convert this dataframe to an interactive table.\"\n",
              "            style=\"display:none;\">\n",
              "\n",
              "  <svg xmlns=\"http://www.w3.org/2000/svg\" height=\"24px\" viewBox=\"0 -960 960 960\">\n",
              "    <path d=\"M120-120v-720h720v720H120Zm60-500h600v-160H180v160Zm220 220h160v-160H400v160Zm0 220h160v-160H400v160ZM180-400h160v-160H180v160Zm440 0h160v-160H620v160ZM180-180h160v-160H180v160Zm440 0h160v-160H620v160Z\"/>\n",
              "  </svg>\n",
              "    </button>\n",
              "\n",
              "  <style>\n",
              "    .colab-df-container {\n",
              "      display:flex;\n",
              "      gap: 12px;\n",
              "    }\n",
              "\n",
              "    .colab-df-convert {\n",
              "      background-color: #E8F0FE;\n",
              "      border: none;\n",
              "      border-radius: 50%;\n",
              "      cursor: pointer;\n",
              "      display: none;\n",
              "      fill: #1967D2;\n",
              "      height: 32px;\n",
              "      padding: 0 0 0 0;\n",
              "      width: 32px;\n",
              "    }\n",
              "\n",
              "    .colab-df-convert:hover {\n",
              "      background-color: #E2EBFA;\n",
              "      box-shadow: 0px 1px 2px rgba(60, 64, 67, 0.3), 0px 1px 3px 1px rgba(60, 64, 67, 0.15);\n",
              "      fill: #174EA6;\n",
              "    }\n",
              "\n",
              "    .colab-df-buttons div {\n",
              "      margin-bottom: 4px;\n",
              "    }\n",
              "\n",
              "    [theme=dark] .colab-df-convert {\n",
              "      background-color: #3B4455;\n",
              "      fill: #D2E3FC;\n",
              "    }\n",
              "\n",
              "    [theme=dark] .colab-df-convert:hover {\n",
              "      background-color: #434B5C;\n",
              "      box-shadow: 0px 1px 3px 1px rgba(0, 0, 0, 0.15);\n",
              "      filter: drop-shadow(0px 1px 2px rgba(0, 0, 0, 0.3));\n",
              "      fill: #FFFFFF;\n",
              "    }\n",
              "  </style>\n",
              "\n",
              "    <script>\n",
              "      const buttonEl =\n",
              "        document.querySelector('#df-2e43e229-dcac-41a4-b4b7-ee2244b038d0 button.colab-df-convert');\n",
              "      buttonEl.style.display =\n",
              "        google.colab.kernel.accessAllowed ? 'block' : 'none';\n",
              "\n",
              "      async function convertToInteractive(key) {\n",
              "        const element = document.querySelector('#df-2e43e229-dcac-41a4-b4b7-ee2244b038d0');\n",
              "        const dataTable =\n",
              "          await google.colab.kernel.invokeFunction('convertToInteractive',\n",
              "                                                    [key], {});\n",
              "        if (!dataTable) return;\n",
              "\n",
              "        const docLinkHtml = 'Like what you see? Visit the ' +\n",
              "          '<a target=\"_blank\" href=https://colab.research.google.com/notebooks/data_table.ipynb>data table notebook</a>'\n",
              "          + ' to learn more about interactive tables.';\n",
              "        element.innerHTML = '';\n",
              "        dataTable['output_type'] = 'display_data';\n",
              "        await google.colab.output.renderOutput(dataTable, element);\n",
              "        const docLink = document.createElement('div');\n",
              "        docLink.innerHTML = docLinkHtml;\n",
              "        element.appendChild(docLink);\n",
              "      }\n",
              "    </script>\n",
              "  </div>\n",
              "\n",
              "\n",
              "<div id=\"df-b1e7747a-fd4e-447e-9174-a8d53cc3f29c\">\n",
              "  <button class=\"colab-df-quickchart\" onclick=\"quickchart('df-b1e7747a-fd4e-447e-9174-a8d53cc3f29c')\"\n",
              "            title=\"Suggest charts\"\n",
              "            style=\"display:none;\">\n",
              "\n",
              "<svg xmlns=\"http://www.w3.org/2000/svg\" height=\"24px\"viewBox=\"0 0 24 24\"\n",
              "     width=\"24px\">\n",
              "    <g>\n",
              "        <path d=\"M19 3H5c-1.1 0-2 .9-2 2v14c0 1.1.9 2 2 2h14c1.1 0 2-.9 2-2V5c0-1.1-.9-2-2-2zM9 17H7v-7h2v7zm4 0h-2V7h2v10zm4 0h-2v-4h2v4z\"/>\n",
              "    </g>\n",
              "</svg>\n",
              "  </button>\n",
              "\n",
              "<style>\n",
              "  .colab-df-quickchart {\n",
              "      --bg-color: #E8F0FE;\n",
              "      --fill-color: #1967D2;\n",
              "      --hover-bg-color: #E2EBFA;\n",
              "      --hover-fill-color: #174EA6;\n",
              "      --disabled-fill-color: #AAA;\n",
              "      --disabled-bg-color: #DDD;\n",
              "  }\n",
              "\n",
              "  [theme=dark] .colab-df-quickchart {\n",
              "      --bg-color: #3B4455;\n",
              "      --fill-color: #D2E3FC;\n",
              "      --hover-bg-color: #434B5C;\n",
              "      --hover-fill-color: #FFFFFF;\n",
              "      --disabled-bg-color: #3B4455;\n",
              "      --disabled-fill-color: #666;\n",
              "  }\n",
              "\n",
              "  .colab-df-quickchart {\n",
              "    background-color: var(--bg-color);\n",
              "    border: none;\n",
              "    border-radius: 50%;\n",
              "    cursor: pointer;\n",
              "    display: none;\n",
              "    fill: var(--fill-color);\n",
              "    height: 32px;\n",
              "    padding: 0;\n",
              "    width: 32px;\n",
              "  }\n",
              "\n",
              "  .colab-df-quickchart:hover {\n",
              "    background-color: var(--hover-bg-color);\n",
              "    box-shadow: 0 1px 2px rgba(60, 64, 67, 0.3), 0 1px 3px 1px rgba(60, 64, 67, 0.15);\n",
              "    fill: var(--button-hover-fill-color);\n",
              "  }\n",
              "\n",
              "  .colab-df-quickchart-complete:disabled,\n",
              "  .colab-df-quickchart-complete:disabled:hover {\n",
              "    background-color: var(--disabled-bg-color);\n",
              "    fill: var(--disabled-fill-color);\n",
              "    box-shadow: none;\n",
              "  }\n",
              "\n",
              "  .colab-df-spinner {\n",
              "    border: 2px solid var(--fill-color);\n",
              "    border-color: transparent;\n",
              "    border-bottom-color: var(--fill-color);\n",
              "    animation:\n",
              "      spin 1s steps(1) infinite;\n",
              "  }\n",
              "\n",
              "  @keyframes spin {\n",
              "    0% {\n",
              "      border-color: transparent;\n",
              "      border-bottom-color: var(--fill-color);\n",
              "      border-left-color: var(--fill-color);\n",
              "    }\n",
              "    20% {\n",
              "      border-color: transparent;\n",
              "      border-left-color: var(--fill-color);\n",
              "      border-top-color: var(--fill-color);\n",
              "    }\n",
              "    30% {\n",
              "      border-color: transparent;\n",
              "      border-left-color: var(--fill-color);\n",
              "      border-top-color: var(--fill-color);\n",
              "      border-right-color: var(--fill-color);\n",
              "    }\n",
              "    40% {\n",
              "      border-color: transparent;\n",
              "      border-right-color: var(--fill-color);\n",
              "      border-top-color: var(--fill-color);\n",
              "    }\n",
              "    60% {\n",
              "      border-color: transparent;\n",
              "      border-right-color: var(--fill-color);\n",
              "    }\n",
              "    80% {\n",
              "      border-color: transparent;\n",
              "      border-right-color: var(--fill-color);\n",
              "      border-bottom-color: var(--fill-color);\n",
              "    }\n",
              "    90% {\n",
              "      border-color: transparent;\n",
              "      border-bottom-color: var(--fill-color);\n",
              "    }\n",
              "  }\n",
              "</style>\n",
              "\n",
              "  <script>\n",
              "    async function quickchart(key) {\n",
              "      const quickchartButtonEl =\n",
              "        document.querySelector('#' + key + ' button');\n",
              "      quickchartButtonEl.disabled = true;  // To prevent multiple clicks.\n",
              "      quickchartButtonEl.classList.add('colab-df-spinner');\n",
              "      try {\n",
              "        const charts = await google.colab.kernel.invokeFunction(\n",
              "            'suggestCharts', [key], {});\n",
              "      } catch (error) {\n",
              "        console.error('Error during call to suggestCharts:', error);\n",
              "      }\n",
              "      quickchartButtonEl.classList.remove('colab-df-spinner');\n",
              "      quickchartButtonEl.classList.add('colab-df-quickchart-complete');\n",
              "    }\n",
              "    (() => {\n",
              "      let quickchartButtonEl =\n",
              "        document.querySelector('#df-b1e7747a-fd4e-447e-9174-a8d53cc3f29c button');\n",
              "      quickchartButtonEl.style.display =\n",
              "        google.colab.kernel.accessAllowed ? 'block' : 'none';\n",
              "    })();\n",
              "  </script>\n",
              "</div>\n",
              "\n",
              "    </div>\n",
              "  </div>\n"
            ],
            "application/vnd.google.colaboratory.intrinsic+json": {
              "type": "dataframe",
              "variable_name": "data",
              "summary": "{\n  \"name\": \"data\",\n  \"rows\": 1305,\n  \"fields\": [\n    {\n      \"column\": \"Node Label\",\n      \"properties\": {\n        \"dtype\": \"string\",\n        \"num_unique_values\": 1304,\n        \"samples\": [\n          \"TM3348.ku-nakuru.a.kenet.or.ke\",\n          \"r.kttc.n.kenet.or.ke\",\n          \"r.nrb-pri-sch.n.kenet.or.ke\"\n        ],\n        \"semantic_type\": \"\",\n        \"description\": \"\"\n      }\n    }\n  ]\n}"
            }
          },
          "metadata": {},
          "execution_count": 1
        }
      ],
      "source": [
        "import pandas as pd\n",
        "\n",
        "# Load the CSV file (replace 'your_file.csv' with the actual file name)\n",
        "data = pd.read_csv('Nodes.csv')\n",
        "\n",
        "# Display the first few rows of the data\n",
        "data.head()\n"
      ]
    },
    {
      "cell_type": "code",
      "source": [
        "print (data)\n"
      ],
      "metadata": {
        "colab": {
          "base_uri": "https://localhost:8080/"
        },
        "id": "gHJ4b345h7FM",
        "outputId": "fcfe4376-127e-4fc8-cab4-4311a642d436"
      },
      "execution_count": 3,
      "outputs": [
        {
          "output_type": "stream",
          "name": "stdout",
          "text": [
            "                    Node Label\n",
            "0             04.conference.ke\n",
            "1             05.conference.ke\n",
            "2             06.conference.ke\n",
            "3             07.conference.ke\n",
            "4             09.conference.ke\n",
            "...                        ...\n",
            "1300    u.uon-tr.n.kenet.or.ke\n",
            "1301   webhost-uon.kenet.or.ke\n",
            "1302  wifi-gw-usiu.kenet.or.ke\n",
            "1303          wiki.kenet.or.ke\n",
            "1304     wiocc-ldn.kenet.or.ke\n",
            "\n",
            "[1305 rows x 1 columns]\n"
          ]
        }
      ]
    },
    {
      "cell_type": "code",
      "source": [
        "# Filter rows where the 'Domain' column starts with 'r'\n",
        "filtered_data = data[data['Node Label'].str.startswith('r', na=False)]\n",
        "\n",
        "# Display the filtered data\n",
        "print(filtered_data)"
      ],
      "metadata": {
        "colab": {
          "base_uri": "https://localhost:8080/"
        },
        "id": "eKT92lZriQ-C",
        "outputId": "0a903e6c-c014-4481-8899-5a56e8a50f56"
      },
      "execution_count": 5,
      "outputs": [
        {
          "output_type": "stream",
          "name": "stdout",
          "text": [
            "                               Node Label\n",
            "180          r.aberdare-ttc.m.kenet.or.ke\n",
            "181                 r.aicad.n.kenet.or.ke\n",
            "182   r.aic-kijabe-maimahiu.a.kenet.or.ke\n",
            "183     r.aic-kijabe-marira.n.kenet.or.ke\n",
            "184            r.aic-kijabe.n.kenet.or.ke\n",
            "...                                   ...\n",
            "998              r.wote-tti.n.kenet.or.ke\n",
            "999           r.zetech-main.n.kenet.or.ke\n",
            "1000         r.zetech-mangu.n.kenet.or.ke\n",
            "1001       r.zetech-pioneer.n.kenet.or.ke\n",
            "1002      r.zetech-stanbank.n.kenet.or.ke\n",
            "\n",
            "[823 rows x 1 columns]\n"
          ]
        }
      ]
    },
    {
      "cell_type": "code",
      "source": [
        "# Save the filtered data to a new CSV file\n",
        "filtered_data.to_csv('filtered_data.csv', index=False)\n",
        "from google.colab import files\n",
        "files.download('filtered_data.csv')"
      ],
      "metadata": {
        "colab": {
          "base_uri": "https://localhost:8080/",
          "height": 17
        },
        "id": "SdzoeLW7i1oL",
        "outputId": "8e823bed-177f-4c9f-ff5c-1f34baf824d5"
      },
      "execution_count": 6,
      "outputs": [
        {
          "output_type": "display_data",
          "data": {
            "text/plain": [
              "<IPython.core.display.Javascript object>"
            ],
            "application/javascript": [
              "\n",
              "    async function download(id, filename, size) {\n",
              "      if (!google.colab.kernel.accessAllowed) {\n",
              "        return;\n",
              "      }\n",
              "      const div = document.createElement('div');\n",
              "      const label = document.createElement('label');\n",
              "      label.textContent = `Downloading \"${filename}\": `;\n",
              "      div.appendChild(label);\n",
              "      const progress = document.createElement('progress');\n",
              "      progress.max = size;\n",
              "      div.appendChild(progress);\n",
              "      document.body.appendChild(div);\n",
              "\n",
              "      const buffers = [];\n",
              "      let downloaded = 0;\n",
              "\n",
              "      const channel = await google.colab.kernel.comms.open(id);\n",
              "      // Send a message to notify the kernel that we're ready.\n",
              "      channel.send({})\n",
              "\n",
              "      for await (const message of channel.messages) {\n",
              "        // Send a message to notify the kernel that we're ready.\n",
              "        channel.send({})\n",
              "        if (message.buffers) {\n",
              "          for (const buffer of message.buffers) {\n",
              "            buffers.push(buffer);\n",
              "            downloaded += buffer.byteLength;\n",
              "            progress.value = downloaded;\n",
              "          }\n",
              "        }\n",
              "      }\n",
              "      const blob = new Blob(buffers, {type: 'application/binary'});\n",
              "      const a = document.createElement('a');\n",
              "      a.href = window.URL.createObjectURL(blob);\n",
              "      a.download = filename;\n",
              "      div.appendChild(a);\n",
              "      a.click();\n",
              "      div.remove();\n",
              "    }\n",
              "  "
            ]
          },
          "metadata": {}
        },
        {
          "output_type": "display_data",
          "data": {
            "text/plain": [
              "<IPython.core.display.Javascript object>"
            ],
            "application/javascript": [
              "download(\"download_e742025e-d80e-4629-b3ab-8139373b9551\", \"filtered_data.csv\", 24829)"
            ]
          },
          "metadata": {}
        }
      ]
    },
    {
      "cell_type": "code",
      "source": [
        "import pandas as pd\n",
        "\n",
        "# Load the CSV file\n",
        "filtered_data = pd.read_csv('filtered_data.csv')\n",
        "\n",
        "# Load the text file and check the number of columns\n",
        "# (assuming it's tab-separated; if not, adjust the delimiter)\n",
        "name_alias_data = pd.read_csv('name_name_alias.txt', delimiter='\\t', header=None)\n",
        "\n",
        "# Check the number of columns in each file\n",
        "print(\"Filtered Data Columns:\", filtered_data.columns)\n",
        "print(\"Name Alias Data Shape:\", name_alias_data.shape)\n",
        "\n",
        "# Ensure both DataFrames have the same number of columns by aligning the structure\n",
        "if name_alias_data.shape[1] != filtered_data.shape[1]:\n",
        "    print(\"The files have a different number of columns. Please ensure they match.\")\n",
        "else:\n",
        "    # Assign column names from filtered_data to name_alias_data\n",
        "    name_alias_data.columns = filtered_data.columns\n",
        "\n",
        "    # Option 1: Find common rows between both DataFrames\n",
        "    common_rows = pd.merge(filtered_data, name_alias_data, how='inner')\n",
        "\n",
        "    # Option 2: Find rows unique to `filtered_data.csv`\n",
        "    unique_to_filtered = filtered_data[~filtered_data.isin(name_alias_data)].dropna()\n",
        "\n",
        "    # Option 3: Find rows unique to `name_name_alias.txt`\n",
        "    unique_to_name_alias = name_alias_data[~name_alias_data.isin(filtered_data)].dropna()\n",
        "\n",
        "    # Display results\n",
        "    print(\"Common Rows:\")\n",
        "    print(common_rows)\n",
        "\n",
        "    print(\"\\nRows unique to filtered_data.csv:\")\n",
        "    print(unique_to_filtered)\n",
        "\n",
        "    print(\"\\nRows unique to name_name_alias.txt:\")\n",
        "    print(unique_to_name_alias)\n"
      ],
      "metadata": {
        "colab": {
          "base_uri": "https://localhost:8080/"
        },
        "id": "LhaKaWaRlnkg",
        "outputId": "973a1d6e-6612-409c-8fe8-f53a506630aa"
      },
      "execution_count": 8,
      "outputs": [
        {
          "output_type": "stream",
          "name": "stdout",
          "text": [
            "Filtered Data Columns: Index(['Node Label'], dtype='object')\n",
            "Name Alias Data Shape: (424, 2)\n",
            "The files have a different number of columns. Please ensure they match.\n"
          ]
        }
      ]
    },
    {
      "cell_type": "code",
      "source": [
        "# Let's load and print the first few rows of the text file to understand its structure.\n",
        "import pandas as pd\n",
        "\n",
        "# Load the text file to examine its structure (using tab as the delimiter)\n",
        "name_alias_data = pd.read_csv('name_name_alias.txt', delimiter='\\t', header=None)\n",
        "\n",
        "# Display the first few rows to understand the data layout\n",
        "name_alias_data.head()\n"
      ],
      "metadata": {
        "colab": {
          "base_uri": "https://localhost:8080/",
          "height": 206
        },
        "id": "WmwyZKkimazR",
        "outputId": "b81637bf-3c05-406e-e42c-7e7e4de4d6e8"
      },
      "execution_count": 10,
      "outputs": [
        {
          "output_type": "execute_result",
          "data": {
            "text/plain": [
              "                                            0  \\\n",
              "0         Aberdare Teacher's Training College   \n",
              "1      ACORN BUSINES SERVICES LTD -QWETU Juja   \n",
              "2    ACORN BUSINES SERVICES LTD-QWETU Chiromo   \n",
              "3   ACORN BUSINES SERVICES LTD-QWETU Hulingam   \n",
              "4  ACORN BUSINES SERVICES LTD-QWETU Parklands   \n",
              "\n",
              "                                  1  \n",
              "0      r.aberdare-ttc.m.kenet.or.ke  \n",
              "1        r.qwetu-juja.n.kenet.or.ke  \n",
              "2     r.qwetu-chiromo.n.kenet.or.ke  \n",
              "3  r.qwetu-hurlingham.n.kenet.or.ke  \n",
              "4   r.qwetu-parklands.n.kenet.or.ke  "
            ],
            "text/html": [
              "\n",
              "  <div id=\"df-3156687a-9da3-401a-87d1-80d215ff72f1\" class=\"colab-df-container\">\n",
              "    <div>\n",
              "<style scoped>\n",
              "    .dataframe tbody tr th:only-of-type {\n",
              "        vertical-align: middle;\n",
              "    }\n",
              "\n",
              "    .dataframe tbody tr th {\n",
              "        vertical-align: top;\n",
              "    }\n",
              "\n",
              "    .dataframe thead th {\n",
              "        text-align: right;\n",
              "    }\n",
              "</style>\n",
              "<table border=\"1\" class=\"dataframe\">\n",
              "  <thead>\n",
              "    <tr style=\"text-align: right;\">\n",
              "      <th></th>\n",
              "      <th>0</th>\n",
              "      <th>1</th>\n",
              "    </tr>\n",
              "  </thead>\n",
              "  <tbody>\n",
              "    <tr>\n",
              "      <th>0</th>\n",
              "      <td>Aberdare Teacher's Training College</td>\n",
              "      <td>r.aberdare-ttc.m.kenet.or.ke</td>\n",
              "    </tr>\n",
              "    <tr>\n",
              "      <th>1</th>\n",
              "      <td>ACORN BUSINES SERVICES LTD -QWETU Juja</td>\n",
              "      <td>r.qwetu-juja.n.kenet.or.ke</td>\n",
              "    </tr>\n",
              "    <tr>\n",
              "      <th>2</th>\n",
              "      <td>ACORN BUSINES SERVICES LTD-QWETU Chiromo</td>\n",
              "      <td>r.qwetu-chiromo.n.kenet.or.ke</td>\n",
              "    </tr>\n",
              "    <tr>\n",
              "      <th>3</th>\n",
              "      <td>ACORN BUSINES SERVICES LTD-QWETU Hulingam</td>\n",
              "      <td>r.qwetu-hurlingham.n.kenet.or.ke</td>\n",
              "    </tr>\n",
              "    <tr>\n",
              "      <th>4</th>\n",
              "      <td>ACORN BUSINES SERVICES LTD-QWETU Parklands</td>\n",
              "      <td>r.qwetu-parklands.n.kenet.or.ke</td>\n",
              "    </tr>\n",
              "  </tbody>\n",
              "</table>\n",
              "</div>\n",
              "    <div class=\"colab-df-buttons\">\n",
              "\n",
              "  <div class=\"colab-df-container\">\n",
              "    <button class=\"colab-df-convert\" onclick=\"convertToInteractive('df-3156687a-9da3-401a-87d1-80d215ff72f1')\"\n",
              "            title=\"Convert this dataframe to an interactive table.\"\n",
              "            style=\"display:none;\">\n",
              "\n",
              "  <svg xmlns=\"http://www.w3.org/2000/svg\" height=\"24px\" viewBox=\"0 -960 960 960\">\n",
              "    <path d=\"M120-120v-720h720v720H120Zm60-500h600v-160H180v160Zm220 220h160v-160H400v160Zm0 220h160v-160H400v160ZM180-400h160v-160H180v160Zm440 0h160v-160H620v160ZM180-180h160v-160H180v160Zm440 0h160v-160H620v160Z\"/>\n",
              "  </svg>\n",
              "    </button>\n",
              "\n",
              "  <style>\n",
              "    .colab-df-container {\n",
              "      display:flex;\n",
              "      gap: 12px;\n",
              "    }\n",
              "\n",
              "    .colab-df-convert {\n",
              "      background-color: #E8F0FE;\n",
              "      border: none;\n",
              "      border-radius: 50%;\n",
              "      cursor: pointer;\n",
              "      display: none;\n",
              "      fill: #1967D2;\n",
              "      height: 32px;\n",
              "      padding: 0 0 0 0;\n",
              "      width: 32px;\n",
              "    }\n",
              "\n",
              "    .colab-df-convert:hover {\n",
              "      background-color: #E2EBFA;\n",
              "      box-shadow: 0px 1px 2px rgba(60, 64, 67, 0.3), 0px 1px 3px 1px rgba(60, 64, 67, 0.15);\n",
              "      fill: #174EA6;\n",
              "    }\n",
              "\n",
              "    .colab-df-buttons div {\n",
              "      margin-bottom: 4px;\n",
              "    }\n",
              "\n",
              "    [theme=dark] .colab-df-convert {\n",
              "      background-color: #3B4455;\n",
              "      fill: #D2E3FC;\n",
              "    }\n",
              "\n",
              "    [theme=dark] .colab-df-convert:hover {\n",
              "      background-color: #434B5C;\n",
              "      box-shadow: 0px 1px 3px 1px rgba(0, 0, 0, 0.15);\n",
              "      filter: drop-shadow(0px 1px 2px rgba(0, 0, 0, 0.3));\n",
              "      fill: #FFFFFF;\n",
              "    }\n",
              "  </style>\n",
              "\n",
              "    <script>\n",
              "      const buttonEl =\n",
              "        document.querySelector('#df-3156687a-9da3-401a-87d1-80d215ff72f1 button.colab-df-convert');\n",
              "      buttonEl.style.display =\n",
              "        google.colab.kernel.accessAllowed ? 'block' : 'none';\n",
              "\n",
              "      async function convertToInteractive(key) {\n",
              "        const element = document.querySelector('#df-3156687a-9da3-401a-87d1-80d215ff72f1');\n",
              "        const dataTable =\n",
              "          await google.colab.kernel.invokeFunction('convertToInteractive',\n",
              "                                                    [key], {});\n",
              "        if (!dataTable) return;\n",
              "\n",
              "        const docLinkHtml = 'Like what you see? Visit the ' +\n",
              "          '<a target=\"_blank\" href=https://colab.research.google.com/notebooks/data_table.ipynb>data table notebook</a>'\n",
              "          + ' to learn more about interactive tables.';\n",
              "        element.innerHTML = '';\n",
              "        dataTable['output_type'] = 'display_data';\n",
              "        await google.colab.output.renderOutput(dataTable, element);\n",
              "        const docLink = document.createElement('div');\n",
              "        docLink.innerHTML = docLinkHtml;\n",
              "        element.appendChild(docLink);\n",
              "      }\n",
              "    </script>\n",
              "  </div>\n",
              "\n",
              "\n",
              "<div id=\"df-bec6942c-20d3-45a2-bbb6-1c20a344e6e2\">\n",
              "  <button class=\"colab-df-quickchart\" onclick=\"quickchart('df-bec6942c-20d3-45a2-bbb6-1c20a344e6e2')\"\n",
              "            title=\"Suggest charts\"\n",
              "            style=\"display:none;\">\n",
              "\n",
              "<svg xmlns=\"http://www.w3.org/2000/svg\" height=\"24px\"viewBox=\"0 0 24 24\"\n",
              "     width=\"24px\">\n",
              "    <g>\n",
              "        <path d=\"M19 3H5c-1.1 0-2 .9-2 2v14c0 1.1.9 2 2 2h14c1.1 0 2-.9 2-2V5c0-1.1-.9-2-2-2zM9 17H7v-7h2v7zm4 0h-2V7h2v10zm4 0h-2v-4h2v4z\"/>\n",
              "    </g>\n",
              "</svg>\n",
              "  </button>\n",
              "\n",
              "<style>\n",
              "  .colab-df-quickchart {\n",
              "      --bg-color: #E8F0FE;\n",
              "      --fill-color: #1967D2;\n",
              "      --hover-bg-color: #E2EBFA;\n",
              "      --hover-fill-color: #174EA6;\n",
              "      --disabled-fill-color: #AAA;\n",
              "      --disabled-bg-color: #DDD;\n",
              "  }\n",
              "\n",
              "  [theme=dark] .colab-df-quickchart {\n",
              "      --bg-color: #3B4455;\n",
              "      --fill-color: #D2E3FC;\n",
              "      --hover-bg-color: #434B5C;\n",
              "      --hover-fill-color: #FFFFFF;\n",
              "      --disabled-bg-color: #3B4455;\n",
              "      --disabled-fill-color: #666;\n",
              "  }\n",
              "\n",
              "  .colab-df-quickchart {\n",
              "    background-color: var(--bg-color);\n",
              "    border: none;\n",
              "    border-radius: 50%;\n",
              "    cursor: pointer;\n",
              "    display: none;\n",
              "    fill: var(--fill-color);\n",
              "    height: 32px;\n",
              "    padding: 0;\n",
              "    width: 32px;\n",
              "  }\n",
              "\n",
              "  .colab-df-quickchart:hover {\n",
              "    background-color: var(--hover-bg-color);\n",
              "    box-shadow: 0 1px 2px rgba(60, 64, 67, 0.3), 0 1px 3px 1px rgba(60, 64, 67, 0.15);\n",
              "    fill: var(--button-hover-fill-color);\n",
              "  }\n",
              "\n",
              "  .colab-df-quickchart-complete:disabled,\n",
              "  .colab-df-quickchart-complete:disabled:hover {\n",
              "    background-color: var(--disabled-bg-color);\n",
              "    fill: var(--disabled-fill-color);\n",
              "    box-shadow: none;\n",
              "  }\n",
              "\n",
              "  .colab-df-spinner {\n",
              "    border: 2px solid var(--fill-color);\n",
              "    border-color: transparent;\n",
              "    border-bottom-color: var(--fill-color);\n",
              "    animation:\n",
              "      spin 1s steps(1) infinite;\n",
              "  }\n",
              "\n",
              "  @keyframes spin {\n",
              "    0% {\n",
              "      border-color: transparent;\n",
              "      border-bottom-color: var(--fill-color);\n",
              "      border-left-color: var(--fill-color);\n",
              "    }\n",
              "    20% {\n",
              "      border-color: transparent;\n",
              "      border-left-color: var(--fill-color);\n",
              "      border-top-color: var(--fill-color);\n",
              "    }\n",
              "    30% {\n",
              "      border-color: transparent;\n",
              "      border-left-color: var(--fill-color);\n",
              "      border-top-color: var(--fill-color);\n",
              "      border-right-color: var(--fill-color);\n",
              "    }\n",
              "    40% {\n",
              "      border-color: transparent;\n",
              "      border-right-color: var(--fill-color);\n",
              "      border-top-color: var(--fill-color);\n",
              "    }\n",
              "    60% {\n",
              "      border-color: transparent;\n",
              "      border-right-color: var(--fill-color);\n",
              "    }\n",
              "    80% {\n",
              "      border-color: transparent;\n",
              "      border-right-color: var(--fill-color);\n",
              "      border-bottom-color: var(--fill-color);\n",
              "    }\n",
              "    90% {\n",
              "      border-color: transparent;\n",
              "      border-bottom-color: var(--fill-color);\n",
              "    }\n",
              "  }\n",
              "</style>\n",
              "\n",
              "  <script>\n",
              "    async function quickchart(key) {\n",
              "      const quickchartButtonEl =\n",
              "        document.querySelector('#' + key + ' button');\n",
              "      quickchartButtonEl.disabled = true;  // To prevent multiple clicks.\n",
              "      quickchartButtonEl.classList.add('colab-df-spinner');\n",
              "      try {\n",
              "        const charts = await google.colab.kernel.invokeFunction(\n",
              "            'suggestCharts', [key], {});\n",
              "      } catch (error) {\n",
              "        console.error('Error during call to suggestCharts:', error);\n",
              "      }\n",
              "      quickchartButtonEl.classList.remove('colab-df-spinner');\n",
              "      quickchartButtonEl.classList.add('colab-df-quickchart-complete');\n",
              "    }\n",
              "    (() => {\n",
              "      let quickchartButtonEl =\n",
              "        document.querySelector('#df-bec6942c-20d3-45a2-bbb6-1c20a344e6e2 button');\n",
              "      quickchartButtonEl.style.display =\n",
              "        google.colab.kernel.accessAllowed ? 'block' : 'none';\n",
              "    })();\n",
              "  </script>\n",
              "</div>\n",
              "\n",
              "    </div>\n",
              "  </div>\n"
            ],
            "application/vnd.google.colaboratory.intrinsic+json": {
              "type": "dataframe",
              "variable_name": "name_alias_data",
              "summary": "{\n  \"name\": \"name_alias_data\",\n  \"rows\": 424,\n  \"fields\": [\n    {\n      \"column\": 0,\n      \"properties\": {\n        \"dtype\": \"string\",\n        \"num_unique_values\": 424,\n        \"samples\": [\n          \"Kenya Medical Training College Bondo\",\n          \"Mama Ngina University College\",\n          \"Kenya Medical Training College Lodwar\"\n        ],\n        \"semantic_type\": \"\",\n        \"description\": \"\"\n      }\n    },\n    {\n      \"column\": 1,\n      \"properties\": {\n        \"dtype\": \"string\",\n        \"num_unique_values\": 424,\n        \"samples\": [\n          \"r.kmtc-bondo.k.kenet.or.ke\",\n          \"r.mama-ngina.n.kenet.or.ke\",\n          \"r.kmtc-lodwar.e.kenet.or.ke\"\n        ],\n        \"semantic_type\": \"\",\n        \"description\": \"\"\n      }\n    }\n  ]\n}"
            }
          },
          "metadata": {},
          "execution_count": 10
        }
      ]
    },
    {
      "source": [
        "from google.colab import sheets\n",
        "sheet = sheets.InteractiveSheet(df=name_alias_data)"
      ],
      "cell_type": "code",
      "execution_count": 11,
      "outputs": [
        {
          "output_type": "stream",
          "name": "stdout",
          "text": [
            "https://docs.google.com/spreadsheets/d/1UKe8grfxtf19RaiEykQ5tJbLTCvZ3iANqkzGVCwjPdU#gid=0\n"
          ]
        },
        {
          "output_type": "stream",
          "name": "stderr",
          "text": [
            "/usr/local/lib/python3.10/dist-packages/google/colab/sheets.py:31: FutureWarning: DataFrame.applymap has been deprecated. Use DataFrame.map instead.\n",
            "  return frame.applymap(_clean_val).replace({np.nan: None})\n"
          ]
        },
        {
          "output_type": "display_data",
          "data": {
            "text/plain": [
              "<IPython.lib.display.IFrame at 0x7870da4f5180>"
            ],
            "text/html": [
              "\n",
              "        <iframe\n",
              "            width=\"100%\"\n",
              "            height=\"600\"\n",
              "            src=\"https://docs.google.com/spreadsheets/d/1UKe8grfxtf19RaiEykQ5tJbLTCvZ3iANqkzGVCwjPdU#gid=0/edit?rm=embedded?usp=sharing?widget=true&amp;headers=false\"\n",
              "            frameborder=\"0\"\n",
              "            allowfullscreen\n",
              "            \n",
              "        ></iframe>\n",
              "        "
            ]
          },
          "metadata": {}
        }
      ],
      "metadata": {
        "cellView": "form",
        "colab": {
          "base_uri": "https://localhost:8080/",
          "height": 673
        },
        "id": "4YVBmggbm4G2",
        "outputId": "e47e5edb-42f2-49c0-c00d-71d488cfbc65"
      }
    },
    {
      "cell_type": "code",
      "source": [
        "import pandas as pd\n",
        "\n",
        "# Load the data from the text file\n",
        "name_alias_data = pd.read_csv('name_name_alias.txt', delimiter='\\t', header=None)\n",
        "\n",
        "# Drop the first column (index 0)\n",
        "name_alias_data_cleaned = name_alias_data.drop(columns=[0])\n",
        "\n",
        "# Display the cleaned data\n",
        "print(name_alias_data_cleaned.head())\n"
      ],
      "metadata": {
        "colab": {
          "base_uri": "https://localhost:8080/"
        },
        "id": "dYCaRRmOnbbk",
        "outputId": "052dfb1d-2043-4b20-b36d-54fdce3fb864"
      },
      "execution_count": 12,
      "outputs": [
        {
          "output_type": "stream",
          "name": "stdout",
          "text": [
            "                                  1\n",
            "0      r.aberdare-ttc.m.kenet.or.ke\n",
            "1        r.qwetu-juja.n.kenet.or.ke\n",
            "2     r.qwetu-chiromo.n.kenet.or.ke\n",
            "3  r.qwetu-hurlingham.n.kenet.or.ke\n",
            "4   r.qwetu-parklands.n.kenet.or.ke\n"
          ]
        }
      ]
    },
    {
      "cell_type": "code",
      "source": [
        "import pandas as pd\n",
        "\n",
        "# Load the CSV file\n",
        "filtered_data = pd.read_csv('filtered_data.csv')\n",
        "\n",
        "# Load the cleaned text file (after dropping the first column)\n",
        "name_alias_data = pd.read_csv('name_name_alias.txt', delimiter='\\t', header=None)\n",
        "name_alias_data_cleaned = name_alias_data.drop(columns=[0])\n",
        "\n",
        "# Rename columns to match (assuming the column in filtered_data.csv is 'Node Label')\n",
        "name_alias_data_cleaned.columns = ['Node Label']\n",
        "\n",
        "# Find rows in filtered_data.csv that are not in the cleaned name_alias_data\n",
        "missing_data = filtered_data[~filtered_data['Node Label'].isin(name_alias_data_cleaned['Node Label'])]\n",
        "\n",
        "# Display the missing data\n",
        "print(\"Missing Data from cleaned alias file that is in filtered_data.csv:\")\n",
        "print(missing_data)\n"
      ],
      "metadata": {
        "colab": {
          "base_uri": "https://localhost:8080/"
        },
        "id": "4KuBQLv3oBaI",
        "outputId": "e0171b2b-fe59-4c14-e345-887508770897"
      },
      "execution_count": 13,
      "outputs": [
        {
          "output_type": "stream",
          "name": "stdout",
          "text": [
            "Missing Data from cleaned alias file that is in filtered_data.csv:\n",
            "                           Node Label\n",
            "1               r.aicad.n.kenet.or.ke\n",
            "4          r.aic-kijabe.n.kenet.or.ke\n",
            "6                r.airc.n.kenet.or.ke\n",
            "7          r.aku-centre.n.kenet.or.ke\n",
            "10         r.aku-peponi.n.kenet.or.ke\n",
            "..                                ...\n",
            "813  r.wananchi-juniper.n.kenet.or.ke\n",
            "814     r.westlands-pri.n.kenet.or.ke\n",
            "815    r.whitestar-acad.n.kenet.or.ke\n",
            "816         r.winka-knd.n.kenet.or.ke\n",
            "817        r.world-bank.n.kenet.or.ke\n",
            "\n",
            "[407 rows x 1 columns]\n"
          ]
        }
      ]
    },
    {
      "cell_type": "code",
      "source": [
        "import pandas as pd\n",
        "\n",
        "# Load the CSV file with filtered data\n",
        "filtered_data = pd.read_csv('filtered_data.csv')\n",
        "\n",
        "# Load and clean the name_alias_data (drop first column)\n",
        "name_alias_data = pd.read_csv('name_name_alias.txt', delimiter='\\t', header=None)\n",
        "name_alias_data_cleaned = name_alias_data.drop(columns=[0])\n",
        "\n",
        "# Rename columns to match\n",
        "name_alias_data_cleaned.columns = ['Node Label']\n",
        "\n",
        "# Find the missing data from filtered_data that are not in name_alias_data_cleaned\n",
        "missing_data = filtered_data[~filtered_data['Node Label'].isin(name_alias_data_cleaned['Node Label'])]\n",
        "\n",
        "# Append the missing data to the cleaned name_alias_data\n",
        "updated_name_alias_data = pd.concat([name_alias_data_cleaned, missing_data])\n",
        "\n",
        "# Save the updated data back to the same text file (or a new one if preferred)\n",
        "updated_name_alias_data.to_csv('updated_name_name_alias.txt', index=False, header=False, sep='\\t')\n",
        "\n",
        "# Display the updated data\n",
        "print(\"Updated name_alias_data:\")\n",
        "print(updated_name_alias_data.head())\n"
      ],
      "metadata": {
        "colab": {
          "base_uri": "https://localhost:8080/"
        },
        "id": "P8-9ywDboSm-",
        "outputId": "8fa762ba-2d14-454f-c4e8-9961a0ad95c9"
      },
      "execution_count": 16,
      "outputs": [
        {
          "output_type": "stream",
          "name": "stdout",
          "text": [
            "Updated name_alias_data:\n",
            "                         Node Label\n",
            "0      r.aberdare-ttc.m.kenet.or.ke\n",
            "1        r.qwetu-juja.n.kenet.or.ke\n",
            "2     r.qwetu-chiromo.n.kenet.or.ke\n",
            "3  r.qwetu-hurlingham.n.kenet.or.ke\n",
            "4   r.qwetu-parklands.n.kenet.or.ke\n"
          ]
        }
      ]
    },
    {
      "cell_type": "code",
      "source": [
        "import pandas as pd\n",
        "\n",
        "# Load the original name_name_alias.txt file with all columns\n",
        "name_alias_data = pd.read_csv('name_name_alias.txt', delimiter='\\t', header=None)\n",
        "\n",
        "# Load filtered_data.csv to get the missing data\n",
        "filtered_data = pd.read_csv('filtered_data.csv')\n",
        "\n",
        "# Rename the columns of the filtered data to match\n",
        "filtered_data_cleaned = filtered_data[['Node Label']]  # Assuming 'Node Label' is the column to match\n",
        "\n",
        "# Find the missing data from filtered_data.csv that are not in name_alias_data\n",
        "missing_data = filtered_data_cleaned[~filtered_data_cleaned['Node Label'].isin(name_alias_data[1])]\n",
        "\n",
        "# Retrieve the first column (node) from the original data where the Node Label matches the missing data\n",
        "merged_missing_data = pd.merge(missing_data, name_alias_data, left_on='Node Label', right_on=1, how='left')\n",
        "\n",
        "# Select the relevant columns to update the alias file\n",
        "updated_missing_data = merged_missing_data[[0, 'Node Label']]\n",
        "\n",
        "# Append the updated missing data to the original name_alias_data\n",
        "final_data = pd.concat([name_alias_data, updated_missing_data])\n",
        "\n",
        "# Save the updated data back to the file\n",
        "final_data.to_csv('updated_name_name_alias.txt', index=False, header=False, sep='\\t')\n",
        "\n",
        "# Display the updated data\n",
        "print(\"Updated name_name_alias.txt:\")\n",
        "print(final_data.head())\n"
      ],
      "metadata": {
        "colab": {
          "base_uri": "https://localhost:8080/"
        },
        "id": "Iu7GK4Hfo1uQ",
        "outputId": "f9e67109-2364-45fb-c168-c613fcb25d59"
      },
      "execution_count": 17,
      "outputs": [
        {
          "output_type": "stream",
          "name": "stdout",
          "text": [
            "Updated name_name_alias.txt:\n",
            "                                            0  \\\n",
            "0         Aberdare Teacher's Training College   \n",
            "1      ACORN BUSINES SERVICES LTD -QWETU Juja   \n",
            "2    ACORN BUSINES SERVICES LTD-QWETU Chiromo   \n",
            "3   ACORN BUSINES SERVICES LTD-QWETU Hulingam   \n",
            "4  ACORN BUSINES SERVICES LTD-QWETU Parklands   \n",
            "\n",
            "                                  1 Node Label  \n",
            "0      r.aberdare-ttc.m.kenet.or.ke        NaN  \n",
            "1        r.qwetu-juja.n.kenet.or.ke        NaN  \n",
            "2     r.qwetu-chiromo.n.kenet.or.ke        NaN  \n",
            "3  r.qwetu-hurlingham.n.kenet.or.ke        NaN  \n",
            "4   r.qwetu-parklands.n.kenet.or.ke        NaN  \n"
          ]
        }
      ]
    },
    {
      "cell_type": "code",
      "source": [
        "import pandas as pd\n",
        "\n",
        "# Load the updated name_name_alias.txt file\n",
        "updated_name_alias_data = pd.read_csv('updated_name_name_alias.txt', delimiter='\\t', header=None)\n",
        "\n",
        "# Save it as a CSV file\n",
        "updated_name_alias_data.to_csv('updated_name_name_alias.csv', index=False, header=False)\n",
        "\n",
        "# Display the first few rows of the CSV to verify\n",
        "print(\"Converted CSV:\")\n",
        "print(updated_name_alias_data.head())\n"
      ],
      "metadata": {
        "colab": {
          "base_uri": "https://localhost:8080/"
        },
        "id": "qwtTrRhHpIlv",
        "outputId": "8e32fc5b-16e6-41fc-dd47-5778ed81daca"
      },
      "execution_count": 18,
      "outputs": [
        {
          "output_type": "stream",
          "name": "stdout",
          "text": [
            "Converted CSV:\n",
            "                                            0  \\\n",
            "0         Aberdare Teacher's Training College   \n",
            "1      ACORN BUSINES SERVICES LTD -QWETU Juja   \n",
            "2    ACORN BUSINES SERVICES LTD-QWETU Chiromo   \n",
            "3   ACORN BUSINES SERVICES LTD-QWETU Hulingam   \n",
            "4  ACORN BUSINES SERVICES LTD-QWETU Parklands   \n",
            "\n",
            "                                  1    2  \n",
            "0      r.aberdare-ttc.m.kenet.or.ke  NaN  \n",
            "1        r.qwetu-juja.n.kenet.or.ke  NaN  \n",
            "2     r.qwetu-chiromo.n.kenet.or.ke  NaN  \n",
            "3  r.qwetu-hurlingham.n.kenet.or.ke  NaN  \n",
            "4   r.qwetu-parklands.n.kenet.or.ke  NaN  \n"
          ]
        }
      ]
    },
    {
      "cell_type": "code",
      "source": [
        "import pandas as pd\n",
        "\n",
        "# Load the updated CSV file\n",
        "updated_data = pd.read_csv('updated_name_name_alias.csv', header=None)\n",
        "\n",
        "# Rename the columns (if needed)\n",
        "updated_data.columns = ['name', 'name_alias']  # Assuming the first column is 'Node Label' and second column is 'Alias'\n",
        "\n",
        "# Filter out rows where 'Node Label' starts with 'rl.'\n",
        "cleaned_data = updated_data[~updated_data['name_alias'].str.startswith('rl.')]\n",
        "\n",
        "# Save the cleaned data back to CSV\n",
        "cleaned_data.to_csv('cleaned_updated_name_name_alias.csv', index=False, header=False)\n",
        "\n",
        "# Display the cleaned data\n",
        "print(\"Cleaned Data (with 'rl.' items removed):\")\n",
        "print(cleaned_data.head())\n"
      ],
      "metadata": {
        "colab": {
          "base_uri": "https://localhost:8080/"
        },
        "id": "meOW02ykqcLp",
        "outputId": "c08818eb-10e4-44fb-9196-09a063d997a9"
      },
      "execution_count": 21,
      "outputs": [
        {
          "output_type": "stream",
          "name": "stdout",
          "text": [
            "Cleaned Data (with 'rl.' items removed):\n",
            "                                        name                        name_alias\n",
            "0                                       name                        name_alias\n",
            "1        Aberdare Teacher's Training College      r.aberdare-ttc.m.kenet.or.ke\n",
            "2     ACORN BUSINES SERVICES LTD -QWETU Juja        r.qwetu-juja.n.kenet.or.ke\n",
            "3   ACORN BUSINES SERVICES LTD-QWETU Chiromo     r.qwetu-chiromo.n.kenet.or.ke\n",
            "4  ACORN BUSINES SERVICES LTD-QWETU Hulingam  r.qwetu-hurlingham.n.kenet.or.ke\n"
          ]
        }
      ]
    },
    {
      "cell_type": "code",
      "source": [
        "import pandas as pd\n",
        "\n",
        "# Load the updated CSV file\n",
        "updated_data = pd.read_csv('cleaned_updated_name_name_alias.csv', header=None)\n",
        "\n",
        "# Rename the columns (if needed)\n",
        "updated_data.columns = ['name', 'name_alias']  # Assuming the first column is 'Node Label' and second column is 'Alias'\n",
        "\n",
        "# Filter out rows where 'Node Label' starts with 'rl.'\n",
        "cleaned_data = updated_data[~updated_data['name_alias'].str.startswith('res')]\n",
        "\n",
        "# Save the cleaned data back to CSV\n",
        "cleaned_data.to_csv('cleaned_updated_name_name_alias1.csv', index=False, header=False)\n",
        "\n",
        "# Display the cleaned data\n",
        "print(\"Cleaned Data (with 'res' items removed):\")\n",
        "print(cleaned_data.head())\n"
      ],
      "metadata": {
        "colab": {
          "base_uri": "https://localhost:8080/"
        },
        "id": "reaeMF4lrtqS",
        "outputId": "4cad8145-18b1-4c47-be2d-97aea89275d4"
      },
      "execution_count": 22,
      "outputs": [
        {
          "output_type": "stream",
          "name": "stdout",
          "text": [
            "Cleaned Data (with 'res' items removed):\n",
            "                                        name                        name_alias\n",
            "0                                       name                        name_alias\n",
            "1        Aberdare Teacher's Training College      r.aberdare-ttc.m.kenet.or.ke\n",
            "2     ACORN BUSINES SERVICES LTD -QWETU Juja        r.qwetu-juja.n.kenet.or.ke\n",
            "3   ACORN BUSINES SERVICES LTD-QWETU Chiromo     r.qwetu-chiromo.n.kenet.or.ke\n",
            "4  ACORN BUSINES SERVICES LTD-QWETU Hulingam  r.qwetu-hurlingham.n.kenet.or.ke\n"
          ]
        }
      ]
    },
    {
      "cell_type": "code",
      "source": [
        "import pandas as pd\n",
        "\n",
        "# Load the cleaned CSV file\n",
        "cleaned_data = pd.read_csv('cleaned_updated_name_name_alias1.csv', header=None)\n",
        "\n",
        "# Save it as a tab-separated text file\n",
        "cleaned_data.to_csv('cleaned_updated_name_name_alias1.txt', index=False, header=False, sep='\\t')\n",
        "\n",
        "# Display the saved file path\n",
        "print(\"Converted to TXT and saved as 'cleaned_updated_name_name_alias.txt'\")\n"
      ],
      "metadata": {
        "colab": {
          "base_uri": "https://localhost:8080/"
        },
        "id": "66KkC1V_txnQ",
        "outputId": "361ea96d-dbdd-4cf3-9af8-c05a81a085bd"
      },
      "execution_count": 23,
      "outputs": [
        {
          "output_type": "stream",
          "name": "stdout",
          "text": [
            "Converted to TXT and saved as 'cleaned_updated_name_name_alias.txt'\n"
          ]
        }
      ]
    }
  ]
}